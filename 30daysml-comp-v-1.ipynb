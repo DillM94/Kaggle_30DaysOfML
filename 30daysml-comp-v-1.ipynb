{
 "cells": [
  {
   "cell_type": "code",
   "execution_count": 1,
   "id": "f7647d86",
   "metadata": {
    "_cell_guid": "b1076dfc-b9ad-4769-8c92-a6c4dae69d19",
    "_uuid": "8f2839f25d086af736a60e9eeb907d3b93b6e0e5",
    "execution": {
     "iopub.execute_input": "2021-08-18T11:59:39.699561Z",
     "iopub.status.busy": "2021-08-18T11:59:39.698845Z",
     "iopub.status.idle": "2021-08-18T11:59:39.704802Z",
     "shell.execute_reply": "2021-08-18T11:59:39.704176Z",
     "shell.execute_reply.started": "2021-08-18T10:05:17.450231Z"
    },
    "papermill": {
     "duration": 0.037475,
     "end_time": "2021-08-18T11:59:39.705025",
     "exception": false,
     "start_time": "2021-08-18T11:59:39.667550",
     "status": "completed"
    },
    "tags": []
   },
   "outputs": [
    {
     "name": "stdout",
     "output_type": "stream",
     "text": [
      "/kaggle/input/30-days-of-ml/sample_submission.csv\n",
      "/kaggle/input/30-days-of-ml/train.csv\n",
      "/kaggle/input/30-days-of-ml/test.csv\n"
     ]
    }
   ],
   "source": [
    "import os\n",
    "for dirname, _, filenames in os.walk('/kaggle/input'):\n",
    "    for filename in filenames:\n",
    "        print(os.path.join(dirname, filename))"
   ]
  },
  {
   "cell_type": "markdown",
   "id": "abd1493f",
   "metadata": {
    "papermill": {
     "duration": 0.0159,
     "end_time": "2021-08-18T11:59:39.738221",
     "exception": false,
     "start_time": "2021-08-18T11:59:39.722321",
     "status": "completed"
    },
    "tags": []
   },
   "source": [
    "# Improvements from Baseline\n",
    "      - Remove high cardinality columns\n",
    "      - Adjust train-test-split ratio\n",
    "      - Increase n_estimators"
   ]
  },
  {
   "cell_type": "code",
   "execution_count": 2,
   "id": "a003f1cb",
   "metadata": {
    "execution": {
     "iopub.execute_input": "2021-08-18T11:59:39.775892Z",
     "iopub.status.busy": "2021-08-18T11:59:39.775048Z",
     "iopub.status.idle": "2021-08-18T11:59:41.055065Z",
     "shell.execute_reply": "2021-08-18T11:59:41.054329Z",
     "shell.execute_reply.started": "2021-08-18T10:06:58.861459Z"
    },
    "papermill": {
     "duration": 1.300803,
     "end_time": "2021-08-18T11:59:41.055213",
     "exception": false,
     "start_time": "2021-08-18T11:59:39.754410",
     "status": "completed"
    },
    "tags": []
   },
   "outputs": [],
   "source": [
    "import pandas as pd\n",
    "import numpy as np\n",
    "from sklearn.ensemble import RandomForestRegressor\n",
    "from sklearn.model_selection import train_test_split\n",
    "from sklearn.preprocessing import OrdinalEncoder\n",
    "from sklearn.metrics import mean_squared_error"
   ]
  },
  {
   "cell_type": "code",
   "execution_count": 3,
   "id": "b6b2f10c",
   "metadata": {
    "execution": {
     "iopub.execute_input": "2021-08-18T11:59:41.091132Z",
     "iopub.status.busy": "2021-08-18T11:59:41.090453Z",
     "iopub.status.idle": "2021-08-18T11:59:45.473691Z",
     "shell.execute_reply": "2021-08-18T11:59:45.472780Z",
     "shell.execute_reply.started": "2021-08-18T10:43:52.242702Z"
    },
    "papermill": {
     "duration": 4.402192,
     "end_time": "2021-08-18T11:59:45.473838",
     "exception": false,
     "start_time": "2021-08-18T11:59:41.071646",
     "status": "completed"
    },
    "tags": []
   },
   "outputs": [],
   "source": [
    "# Read datasets\n",
    "train_data = pd.read_csv('/kaggle/input/30-days-of-ml/train.csv')\n",
    "test_data = pd.read_csv('/kaggle/input/30-days-of-ml/test.csv')"
   ]
  },
  {
   "cell_type": "code",
   "execution_count": 4,
   "id": "49507eec",
   "metadata": {
    "execution": {
     "iopub.execute_input": "2021-08-18T11:59:45.523274Z",
     "iopub.status.busy": "2021-08-18T11:59:45.522618Z",
     "iopub.status.idle": "2021-08-18T11:59:45.555547Z",
     "shell.execute_reply": "2021-08-18T11:59:45.554900Z",
     "shell.execute_reply.started": "2021-08-18T10:43:56.116537Z"
    },
    "papermill": {
     "duration": 0.065429,
     "end_time": "2021-08-18T11:59:45.555687",
     "exception": false,
     "start_time": "2021-08-18T11:59:45.490258",
     "status": "completed"
    },
    "tags": []
   },
   "outputs": [
    {
     "data": {
      "text/html": [
       "<div>\n",
       "<style scoped>\n",
       "    .dataframe tbody tr th:only-of-type {\n",
       "        vertical-align: middle;\n",
       "    }\n",
       "\n",
       "    .dataframe tbody tr th {\n",
       "        vertical-align: top;\n",
       "    }\n",
       "\n",
       "    .dataframe thead th {\n",
       "        text-align: right;\n",
       "    }\n",
       "</style>\n",
       "<table border=\"1\" class=\"dataframe\">\n",
       "  <thead>\n",
       "    <tr style=\"text-align: right;\">\n",
       "      <th></th>\n",
       "      <th>id</th>\n",
       "      <th>cat0</th>\n",
       "      <th>cat1</th>\n",
       "      <th>cat2</th>\n",
       "      <th>cat3</th>\n",
       "      <th>cat4</th>\n",
       "      <th>cat5</th>\n",
       "      <th>cat6</th>\n",
       "      <th>cat7</th>\n",
       "      <th>cat8</th>\n",
       "      <th>...</th>\n",
       "      <th>cont5</th>\n",
       "      <th>cont6</th>\n",
       "      <th>cont7</th>\n",
       "      <th>cont8</th>\n",
       "      <th>cont9</th>\n",
       "      <th>cont10</th>\n",
       "      <th>cont11</th>\n",
       "      <th>cont12</th>\n",
       "      <th>cont13</th>\n",
       "      <th>target</th>\n",
       "    </tr>\n",
       "  </thead>\n",
       "  <tbody>\n",
       "    <tr>\n",
       "      <th>0</th>\n",
       "      <td>1</td>\n",
       "      <td>B</td>\n",
       "      <td>B</td>\n",
       "      <td>B</td>\n",
       "      <td>C</td>\n",
       "      <td>B</td>\n",
       "      <td>B</td>\n",
       "      <td>A</td>\n",
       "      <td>E</td>\n",
       "      <td>C</td>\n",
       "      <td>...</td>\n",
       "      <td>0.400361</td>\n",
       "      <td>0.160266</td>\n",
       "      <td>0.310921</td>\n",
       "      <td>0.389470</td>\n",
       "      <td>0.267559</td>\n",
       "      <td>0.237281</td>\n",
       "      <td>0.377873</td>\n",
       "      <td>0.322401</td>\n",
       "      <td>0.869850</td>\n",
       "      <td>8.113634</td>\n",
       "    </tr>\n",
       "    <tr>\n",
       "      <th>1</th>\n",
       "      <td>2</td>\n",
       "      <td>B</td>\n",
       "      <td>B</td>\n",
       "      <td>A</td>\n",
       "      <td>A</td>\n",
       "      <td>B</td>\n",
       "      <td>D</td>\n",
       "      <td>A</td>\n",
       "      <td>F</td>\n",
       "      <td>A</td>\n",
       "      <td>...</td>\n",
       "      <td>0.533087</td>\n",
       "      <td>0.558922</td>\n",
       "      <td>0.516294</td>\n",
       "      <td>0.594928</td>\n",
       "      <td>0.341439</td>\n",
       "      <td>0.906013</td>\n",
       "      <td>0.921701</td>\n",
       "      <td>0.261975</td>\n",
       "      <td>0.465083</td>\n",
       "      <td>8.481233</td>\n",
       "    </tr>\n",
       "    <tr>\n",
       "      <th>2</th>\n",
       "      <td>3</td>\n",
       "      <td>A</td>\n",
       "      <td>A</td>\n",
       "      <td>A</td>\n",
       "      <td>C</td>\n",
       "      <td>B</td>\n",
       "      <td>D</td>\n",
       "      <td>A</td>\n",
       "      <td>D</td>\n",
       "      <td>A</td>\n",
       "      <td>...</td>\n",
       "      <td>0.650609</td>\n",
       "      <td>0.375348</td>\n",
       "      <td>0.902567</td>\n",
       "      <td>0.555205</td>\n",
       "      <td>0.843531</td>\n",
       "      <td>0.748809</td>\n",
       "      <td>0.620126</td>\n",
       "      <td>0.541474</td>\n",
       "      <td>0.763846</td>\n",
       "      <td>8.364351</td>\n",
       "    </tr>\n",
       "    <tr>\n",
       "      <th>3</th>\n",
       "      <td>4</td>\n",
       "      <td>B</td>\n",
       "      <td>B</td>\n",
       "      <td>A</td>\n",
       "      <td>C</td>\n",
       "      <td>B</td>\n",
       "      <td>D</td>\n",
       "      <td>A</td>\n",
       "      <td>E</td>\n",
       "      <td>C</td>\n",
       "      <td>...</td>\n",
       "      <td>0.668980</td>\n",
       "      <td>0.239061</td>\n",
       "      <td>0.732948</td>\n",
       "      <td>0.679618</td>\n",
       "      <td>0.574844</td>\n",
       "      <td>0.346010</td>\n",
       "      <td>0.714610</td>\n",
       "      <td>0.540150</td>\n",
       "      <td>0.280682</td>\n",
       "      <td>8.049253</td>\n",
       "    </tr>\n",
       "    <tr>\n",
       "      <th>4</th>\n",
       "      <td>6</td>\n",
       "      <td>A</td>\n",
       "      <td>A</td>\n",
       "      <td>A</td>\n",
       "      <td>C</td>\n",
       "      <td>B</td>\n",
       "      <td>D</td>\n",
       "      <td>A</td>\n",
       "      <td>E</td>\n",
       "      <td>A</td>\n",
       "      <td>...</td>\n",
       "      <td>0.686964</td>\n",
       "      <td>0.420667</td>\n",
       "      <td>0.648182</td>\n",
       "      <td>0.684501</td>\n",
       "      <td>0.956692</td>\n",
       "      <td>1.000773</td>\n",
       "      <td>0.776742</td>\n",
       "      <td>0.625849</td>\n",
       "      <td>0.250823</td>\n",
       "      <td>7.972260</td>\n",
       "    </tr>\n",
       "  </tbody>\n",
       "</table>\n",
       "<p>5 rows × 26 columns</p>\n",
       "</div>"
      ],
      "text/plain": [
       "   id cat0 cat1 cat2 cat3 cat4 cat5 cat6 cat7 cat8  ...     cont5     cont6  \\\n",
       "0   1    B    B    B    C    B    B    A    E    C  ...  0.400361  0.160266   \n",
       "1   2    B    B    A    A    B    D    A    F    A  ...  0.533087  0.558922   \n",
       "2   3    A    A    A    C    B    D    A    D    A  ...  0.650609  0.375348   \n",
       "3   4    B    B    A    C    B    D    A    E    C  ...  0.668980  0.239061   \n",
       "4   6    A    A    A    C    B    D    A    E    A  ...  0.686964  0.420667   \n",
       "\n",
       "      cont7     cont8     cont9    cont10    cont11    cont12    cont13  \\\n",
       "0  0.310921  0.389470  0.267559  0.237281  0.377873  0.322401  0.869850   \n",
       "1  0.516294  0.594928  0.341439  0.906013  0.921701  0.261975  0.465083   \n",
       "2  0.902567  0.555205  0.843531  0.748809  0.620126  0.541474  0.763846   \n",
       "3  0.732948  0.679618  0.574844  0.346010  0.714610  0.540150  0.280682   \n",
       "4  0.648182  0.684501  0.956692  1.000773  0.776742  0.625849  0.250823   \n",
       "\n",
       "     target  \n",
       "0  8.113634  \n",
       "1  8.481233  \n",
       "2  8.364351  \n",
       "3  8.049253  \n",
       "4  7.972260  \n",
       "\n",
       "[5 rows x 26 columns]"
      ]
     },
     "execution_count": 4,
     "metadata": {},
     "output_type": "execute_result"
    }
   ],
   "source": [
    "# Check data\n",
    "train_data.head()"
   ]
  },
  {
   "cell_type": "code",
   "execution_count": 5,
   "id": "1caf557e",
   "metadata": {
    "execution": {
     "iopub.execute_input": "2021-08-18T11:59:45.595625Z",
     "iopub.status.busy": "2021-08-18T11:59:45.594595Z",
     "iopub.status.idle": "2021-08-18T11:59:45.598451Z",
     "shell.execute_reply": "2021-08-18T11:59:45.598943Z",
     "shell.execute_reply.started": "2021-08-18T10:43:57.922776Z"
    },
    "papermill": {
     "duration": 0.026485,
     "end_time": "2021-08-18T11:59:45.599135",
     "exception": false,
     "start_time": "2021-08-18T11:59:45.572650",
     "status": "completed"
    },
    "tags": []
   },
   "outputs": [
    {
     "data": {
      "text/plain": [
       "((300000, 26), (200000, 25))"
      ]
     },
     "execution_count": 5,
     "metadata": {},
     "output_type": "execute_result"
    }
   ],
   "source": [
    "# Check shapes\n",
    "train_data.shape, test_data.shape"
   ]
  },
  {
   "cell_type": "code",
   "execution_count": 6,
   "id": "dda3df38",
   "metadata": {
    "execution": {
     "iopub.execute_input": "2021-08-18T11:59:45.640795Z",
     "iopub.status.busy": "2021-08-18T11:59:45.640129Z",
     "iopub.status.idle": "2021-08-18T11:59:45.644721Z",
     "shell.execute_reply": "2021-08-18T11:59:45.644168Z",
     "shell.execute_reply.started": "2021-08-18T10:43:59.442120Z"
    },
    "papermill": {
     "duration": 0.02755,
     "end_time": "2021-08-18T11:59:45.644881",
     "exception": false,
     "start_time": "2021-08-18T11:59:45.617331",
     "status": "completed"
    },
    "tags": []
   },
   "outputs": [
    {
     "data": {
      "text/plain": [
       "(Index(['id', 'cat0', 'cat1', 'cat2', 'cat3', 'cat4', 'cat5', 'cat6', 'cat7',\n",
       "        'cat8', 'cat9', 'cont0', 'cont1', 'cont2', 'cont3', 'cont4', 'cont5',\n",
       "        'cont6', 'cont7', 'cont8', 'cont9', 'cont10', 'cont11', 'cont12',\n",
       "        'cont13', 'target'],\n",
       "       dtype='object'),\n",
       " Index(['id', 'cat0', 'cat1', 'cat2', 'cat3', 'cat4', 'cat5', 'cat6', 'cat7',\n",
       "        'cat8', 'cat9', 'cont0', 'cont1', 'cont2', 'cont3', 'cont4', 'cont5',\n",
       "        'cont6', 'cont7', 'cont8', 'cont9', 'cont10', 'cont11', 'cont12',\n",
       "        'cont13'],\n",
       "       dtype='object'))"
      ]
     },
     "execution_count": 6,
     "metadata": {},
     "output_type": "execute_result"
    }
   ],
   "source": [
    "# Check columns\n",
    "train_data.columns, test_data.columns"
   ]
  },
  {
   "cell_type": "code",
   "execution_count": 7,
   "id": "757ace24",
   "metadata": {
    "execution": {
     "iopub.execute_input": "2021-08-18T11:59:45.684741Z",
     "iopub.status.busy": "2021-08-18T11:59:45.684076Z",
     "iopub.status.idle": "2021-08-18T11:59:45.748369Z",
     "shell.execute_reply": "2021-08-18T11:59:45.747675Z",
     "shell.execute_reply.started": "2021-08-18T10:44:02.642243Z"
    },
    "papermill": {
     "duration": 0.086005,
     "end_time": "2021-08-18T11:59:45.748512",
     "exception": false,
     "start_time": "2021-08-18T11:59:45.662507",
     "status": "completed"
    },
    "tags": []
   },
   "outputs": [],
   "source": [
    "# Copy datasets for altering\n",
    "train_full = train_data.copy()\n",
    "test_full = test_data.copy()"
   ]
  },
  {
   "cell_type": "code",
   "execution_count": 8,
   "id": "1f47b7f6",
   "metadata": {
    "execution": {
     "iopub.execute_input": "2021-08-18T11:59:45.809059Z",
     "iopub.status.busy": "2021-08-18T11:59:45.796488Z",
     "iopub.status.idle": "2021-08-18T11:59:45.992270Z",
     "shell.execute_reply": "2021-08-18T11:59:45.992716Z",
     "shell.execute_reply.started": "2021-08-18T10:44:04.107687Z"
    },
    "papermill": {
     "duration": 0.226813,
     "end_time": "2021-08-18T11:59:45.992917",
     "exception": false,
     "start_time": "2021-08-18T11:59:45.766104",
     "status": "completed"
    },
    "tags": []
   },
   "outputs": [
    {
     "data": {
      "text/plain": [
       "{'cat0': 2,\n",
       " 'cat1': 2,\n",
       " 'cat2': 2,\n",
       " 'cat3': 4,\n",
       " 'cat4': 4,\n",
       " 'cat5': 4,\n",
       " 'cat6': 8,\n",
       " 'cat7': 8,\n",
       " 'cat8': 7,\n",
       " 'cat9': 15}"
      ]
     },
     "execution_count": 8,
     "metadata": {},
     "output_type": "execute_result"
    }
   ],
   "source": [
    "# Checking Features to drop - Removing high cardinality\n",
    "cardinality = {}\n",
    "for col in train_full.columns:\n",
    "    # Only concenred with object cols\n",
    "    if train_full[col].dtypes == 'object':\n",
    "        cardinality[col] = len(train_full[col].unique())\n",
    "    \n",
    "cardinality\n",
    "\n"
   ]
  },
  {
   "cell_type": "code",
   "execution_count": 9,
   "id": "cda15672",
   "metadata": {
    "execution": {
     "iopub.execute_input": "2021-08-18T11:59:46.069442Z",
     "iopub.status.busy": "2021-08-18T11:59:46.035663Z",
     "iopub.status.idle": "2021-08-18T11:59:46.126553Z",
     "shell.execute_reply": "2021-08-18T11:59:46.127044Z",
     "shell.execute_reply.started": "2021-08-18T10:44:06.498371Z"
    },
    "papermill": {
     "duration": 0.116594,
     "end_time": "2021-08-18T11:59:46.127233",
     "exception": false,
     "start_time": "2021-08-18T11:59:46.010639",
     "status": "completed"
    },
    "tags": []
   },
   "outputs": [],
   "source": [
    "# Cat9 needs to be dropped\n",
    "train_full.drop('cat9', axis = 1, inplace = True)\n",
    "test_full.drop('cat9', axis = 1, inplace = True)"
   ]
  },
  {
   "cell_type": "code",
   "execution_count": 10,
   "id": "ab3c47f3",
   "metadata": {
    "execution": {
     "iopub.execute_input": "2021-08-18T11:59:46.212798Z",
     "iopub.status.busy": "2021-08-18T11:59:46.199553Z",
     "iopub.status.idle": "2021-08-18T11:59:46.216202Z",
     "shell.execute_reply": "2021-08-18T11:59:46.215514Z",
     "shell.execute_reply.started": "2021-08-18T10:44:08.126096Z"
    },
    "papermill": {
     "duration": 0.071335,
     "end_time": "2021-08-18T11:59:46.216349",
     "exception": false,
     "start_time": "2021-08-18T11:59:46.145014",
     "status": "completed"
    },
    "tags": []
   },
   "outputs": [],
   "source": [
    "# Seperate features and targets\n",
    "y = train_full['target']\n",
    "X = train_full.drop('target', axis = 1)"
   ]
  },
  {
   "cell_type": "code",
   "execution_count": 11,
   "id": "6175a3c4",
   "metadata": {
    "execution": {
     "iopub.execute_input": "2021-08-18T11:59:46.264962Z",
     "iopub.status.busy": "2021-08-18T11:59:46.256901Z",
     "iopub.status.idle": "2021-08-18T11:59:46.383094Z",
     "shell.execute_reply": "2021-08-18T11:59:46.383585Z",
     "shell.execute_reply.started": "2021-08-18T10:44:09.766344Z"
    },
    "papermill": {
     "duration": 0.149423,
     "end_time": "2021-08-18T11:59:46.383770",
     "exception": false,
     "start_time": "2021-08-18T11:59:46.234347",
     "status": "completed"
    },
    "tags": []
   },
   "outputs": [],
   "source": [
    "# Create train set and validation set\n",
    "X_train, X_valid, y_train, y_valid = train_test_split(X,y, train_size = 0.6, random_state = 0)"
   ]
  },
  {
   "cell_type": "code",
   "execution_count": 12,
   "id": "aba500cc",
   "metadata": {
    "execution": {
     "iopub.execute_input": "2021-08-18T11:59:46.426328Z",
     "iopub.status.busy": "2021-08-18T11:59:46.425419Z",
     "iopub.status.idle": "2021-08-18T11:59:46.429877Z",
     "shell.execute_reply": "2021-08-18T11:59:46.429252Z",
     "shell.execute_reply.started": "2021-08-18T10:44:11.517817Z"
    },
    "papermill": {
     "duration": 0.02792,
     "end_time": "2021-08-18T11:59:46.430011",
     "exception": false,
     "start_time": "2021-08-18T11:59:46.402091",
     "status": "completed"
    },
    "tags": []
   },
   "outputs": [
    {
     "data": {
      "text/plain": [
       "((180000, 24), (120000, 24), (180000,), (120000,))"
      ]
     },
     "execution_count": 12,
     "metadata": {},
     "output_type": "execute_result"
    }
   ],
   "source": [
    "X_train.shape, X_valid.shape, y_train.shape, y_valid.shape"
   ]
  },
  {
   "cell_type": "code",
   "execution_count": 13,
   "id": "9dd752e1",
   "metadata": {
    "execution": {
     "iopub.execute_input": "2021-08-18T11:59:46.473887Z",
     "iopub.status.busy": "2021-08-18T11:59:46.472907Z",
     "iopub.status.idle": "2021-08-18T11:59:46.476914Z",
     "shell.execute_reply": "2021-08-18T11:59:46.477462Z",
     "shell.execute_reply.started": "2021-08-18T10:44:13.166873Z"
    },
    "papermill": {
     "duration": 0.029407,
     "end_time": "2021-08-18T11:59:46.477643",
     "exception": false,
     "start_time": "2021-08-18T11:59:46.448236",
     "status": "completed"
    },
    "tags": []
   },
   "outputs": [
    {
     "data": {
      "text/plain": [
       "['cat0', 'cat1', 'cat2', 'cat3', 'cat4', 'cat5', 'cat6', 'cat7', 'cat8']"
      ]
     },
     "execution_count": 13,
     "metadata": {},
     "output_type": "execute_result"
    }
   ],
   "source": [
    "# Extract object cols\n",
    "category_cols = [col for col in X_train.columns if X_train[col].dtype == 'object']\n",
    "category_cols"
   ]
  },
  {
   "cell_type": "code",
   "execution_count": 14,
   "id": "56116148",
   "metadata": {
    "execution": {
     "iopub.execute_input": "2021-08-18T11:59:46.520835Z",
     "iopub.status.busy": "2021-08-18T11:59:46.520205Z",
     "iopub.status.idle": "2021-08-18T11:59:50.016256Z",
     "shell.execute_reply": "2021-08-18T11:59:50.016728Z",
     "shell.execute_reply.started": "2021-08-18T10:44:14.997195Z"
    },
    "papermill": {
     "duration": 3.520484,
     "end_time": "2021-08-18T11:59:50.016937",
     "exception": false,
     "start_time": "2021-08-18T11:59:46.496453",
     "status": "completed"
    },
    "tags": []
   },
   "outputs": [],
   "source": [
    "# Encoding Category Cols\n",
    "enc = OrdinalEncoder()\n",
    "\n",
    "cat_X_train = X_train.copy()\n",
    "cat_X_valid = X_valid.copy()\n",
    "\n",
    "cat_X_train[category_cols] = enc.fit_transform(X_train[category_cols])\n",
    "cat_X_valid[category_cols] = enc.transform(X_valid[category_cols])\n",
    "test_full[category_cols] = enc.transform(test_full[category_cols])"
   ]
  },
  {
   "cell_type": "code",
   "execution_count": 15,
   "id": "87c79c77",
   "metadata": {
    "execution": {
     "iopub.execute_input": "2021-08-18T11:59:50.063552Z",
     "iopub.status.busy": "2021-08-18T11:59:50.061948Z",
     "iopub.status.idle": "2021-08-18T12:44:28.420387Z",
     "shell.execute_reply": "2021-08-18T12:44:28.421027Z",
     "shell.execute_reply.started": "2021-08-18T11:09:13.015122Z"
    },
    "papermill": {
     "duration": 2678.385878,
     "end_time": "2021-08-18T12:44:28.421361",
     "exception": false,
     "start_time": "2021-08-18T11:59:50.035483",
     "status": "completed"
    },
    "tags": []
   },
   "outputs": [
    {
     "data": {
      "text/plain": [
       "0.5372208599259335"
      ]
     },
     "execution_count": 15,
     "metadata": {},
     "output_type": "execute_result"
    }
   ],
   "source": [
    "# Modelling\n",
    "model = RandomForestRegressor(n_estimators = 500, random_state = 0)\n",
    "\n",
    "model.fit(cat_X_train, y_train)\n",
    "y_predict = model.predict(cat_X_valid)\n",
    "score = mean_squared_error(y_valid, y_predict)\n",
    "score"
   ]
  },
  {
   "cell_type": "code",
   "execution_count": 16,
   "id": "2652d716",
   "metadata": {
    "execution": {
     "iopub.execute_input": "2021-08-18T12:44:28.472325Z",
     "iopub.status.busy": "2021-08-18T12:44:28.470912Z",
     "iopub.status.idle": "2021-08-18T12:45:28.246681Z",
     "shell.execute_reply": "2021-08-18T12:45:28.246096Z",
     "shell.execute_reply.started": "2021-08-18T11:55:43.462009Z"
    },
    "papermill": {
     "duration": 59.80488,
     "end_time": "2021-08-18T12:45:28.246844",
     "exception": false,
     "start_time": "2021-08-18T12:44:28.441964",
     "status": "completed"
    },
    "tags": []
   },
   "outputs": [],
   "source": [
    "test_predictions = model.predict(test_full)"
   ]
  },
  {
   "cell_type": "code",
   "execution_count": 17,
   "id": "3f5f8234",
   "metadata": {
    "execution": {
     "iopub.execute_input": "2021-08-18T12:45:28.290665Z",
     "iopub.status.busy": "2021-08-18T12:45:28.289893Z",
     "iopub.status.idle": "2021-08-18T12:45:28.293716Z",
     "shell.execute_reply": "2021-08-18T12:45:28.293115Z",
     "shell.execute_reply.started": "2021-08-18T11:59:11.471372Z"
    },
    "papermill": {
     "duration": 0.028061,
     "end_time": "2021-08-18T12:45:28.293849",
     "exception": false,
     "start_time": "2021-08-18T12:45:28.265788",
     "status": "completed"
    },
    "tags": []
   },
   "outputs": [],
   "source": [
    "output = pd.DataFrame({'Id': test_full['id'],\n",
    "                      'Target':test_predictions})"
   ]
  },
  {
   "cell_type": "code",
   "execution_count": 18,
   "id": "dd0fb774",
   "metadata": {
    "execution": {
     "iopub.execute_input": "2021-08-18T12:45:28.337030Z",
     "iopub.status.busy": "2021-08-18T12:45:28.336386Z",
     "iopub.status.idle": "2021-08-18T12:45:29.063553Z",
     "shell.execute_reply": "2021-08-18T12:45:29.062944Z",
     "shell.execute_reply.started": "2021-08-18T11:59:12.877369Z"
    },
    "papermill": {
     "duration": 0.750454,
     "end_time": "2021-08-18T12:45:29.063695",
     "exception": false,
     "start_time": "2021-08-18T12:45:28.313241",
     "status": "completed"
    },
    "tags": []
   },
   "outputs": [],
   "source": [
    "output.to_csv('my_submission.csv', index = False)"
   ]
  }
 ],
 "metadata": {
  "kernelspec": {
   "display_name": "Python 3",
   "language": "python",
   "name": "python3"
  },
  "language_info": {
   "codemirror_mode": {
    "name": "ipython",
    "version": 3
   },
   "file_extension": ".py",
   "mimetype": "text/x-python",
   "name": "python",
   "nbconvert_exporter": "python",
   "pygments_lexer": "ipython3",
   "version": "3.7.10"
  },
  "papermill": {
   "default_parameters": {},
   "duration": 2758.637415,
   "end_time": "2021-08-18T12:45:30.195024",
   "environment_variables": {},
   "exception": null,
   "input_path": "__notebook__.ipynb",
   "output_path": "__notebook__.ipynb",
   "parameters": {},
   "start_time": "2021-08-18T11:59:31.557609",
   "version": "2.3.3"
  }
 },
 "nbformat": 4,
 "nbformat_minor": 5
}
