{
 "cells": [
  {
   "cell_type": "code",
   "execution_count": 1,
   "id": "819ed541",
   "metadata": {
    "_cell_guid": "b1076dfc-b9ad-4769-8c92-a6c4dae69d19",
    "_uuid": "8f2839f25d086af736a60e9eeb907d3b93b6e0e5",
    "execution": {
     "iopub.execute_input": "2021-08-20T22:04:43.303840Z",
     "iopub.status.busy": "2021-08-20T22:04:43.302874Z",
     "iopub.status.idle": "2021-08-20T22:04:43.310157Z",
     "shell.execute_reply": "2021-08-20T22:04:43.309304Z",
     "shell.execute_reply.started": "2021-08-20T14:37:01.017949Z"
    },
    "papermill": {
     "duration": 0.038467,
     "end_time": "2021-08-20T22:04:43.310340",
     "exception": false,
     "start_time": "2021-08-20T22:04:43.271873",
     "status": "completed"
    },
    "tags": []
   },
   "outputs": [
    {
     "name": "stdout",
     "output_type": "stream",
     "text": [
      "/kaggle/input/30-days-of-ml/sample_submission.csv\n",
      "/kaggle/input/30-days-of-ml/train.csv\n",
      "/kaggle/input/30-days-of-ml/test.csv\n"
     ]
    }
   ],
   "source": [
    "import os\n",
    "for dirname, _, filenames in os.walk('/kaggle/input'):\n",
    "    for filename in filenames:\n",
    "        print(os.path.join(dirname, filename))"
   ]
  },
  {
   "cell_type": "markdown",
   "id": "ec09d91a",
   "metadata": {
    "papermill": {
     "duration": 0.017953,
     "end_time": "2021-08-20T22:04:43.347594",
     "exception": false,
     "start_time": "2021-08-20T22:04:43.329641",
     "status": "completed"
    },
    "tags": []
   },
   "source": [
    "# Improvements from v.1\n",
    "    - Optimize Regression Tree\n",
    "    \n",
    "Regression tree when left idle will automatically set max_depth to 'none'. Thi allows the trees to run on until they can't evaluate any more leaves. I get 0.03 increase in model score by allowing the model to run for 30 minutes extra. Hardly seems worth it."
   ]
  },
  {
   "cell_type": "code",
   "execution_count": 2,
   "id": "a38b134a",
   "metadata": {
    "execution": {
     "iopub.execute_input": "2021-08-20T22:04:43.390787Z",
     "iopub.status.busy": "2021-08-20T22:04:43.389799Z",
     "iopub.status.idle": "2021-08-20T22:04:44.927829Z",
     "shell.execute_reply": "2021-08-20T22:04:44.928391Z",
     "shell.execute_reply.started": "2021-08-20T17:45:48.497203Z"
    },
    "papermill": {
     "duration": 1.562444,
     "end_time": "2021-08-20T22:04:44.928594",
     "exception": false,
     "start_time": "2021-08-20T22:04:43.366150",
     "status": "completed"
    },
    "tags": []
   },
   "outputs": [],
   "source": [
    "import pandas as pd\n",
    "import numpy as np\n",
    "import matplotlib.pyplot as plt\n",
    "import seaborn as sns\n",
    "import time\n",
    "from sklearn.ensemble import RandomForestRegressor\n",
    "from sklearn.model_selection import train_test_split\n",
    "from sklearn.preprocessing import OrdinalEncoder\n",
    "from sklearn.metrics import mean_squared_error"
   ]
  },
  {
   "cell_type": "code",
   "execution_count": 3,
   "id": "999860fa",
   "metadata": {
    "execution": {
     "iopub.execute_input": "2021-08-20T22:04:44.968778Z",
     "iopub.status.busy": "2021-08-20T22:04:44.967770Z",
     "iopub.status.idle": "2021-08-20T22:04:49.820107Z",
     "shell.execute_reply": "2021-08-20T22:04:49.819338Z",
     "shell.execute_reply.started": "2021-08-20T14:37:01.451133Z"
    },
    "papermill": {
     "duration": 4.873393,
     "end_time": "2021-08-20T22:04:49.820263",
     "exception": false,
     "start_time": "2021-08-20T22:04:44.946870",
     "status": "completed"
    },
    "tags": []
   },
   "outputs": [],
   "source": [
    "# Read datasets\n",
    "train_data = pd.read_csv('/kaggle/input/30-days-of-ml/train.csv')\n",
    "test_data = pd.read_csv('/kaggle/input/30-days-of-ml/test.csv')"
   ]
  },
  {
   "cell_type": "code",
   "execution_count": 4,
   "id": "da6394ef",
   "metadata": {
    "execution": {
     "iopub.execute_input": "2021-08-20T22:04:49.860372Z",
     "iopub.status.busy": "2021-08-20T22:04:49.859572Z",
     "iopub.status.idle": "2021-08-20T22:04:49.914411Z",
     "shell.execute_reply": "2021-08-20T22:04:49.913229Z",
     "shell.execute_reply.started": "2021-08-20T14:37:06.245136Z"
    },
    "papermill": {
     "duration": 0.076302,
     "end_time": "2021-08-20T22:04:49.914584",
     "exception": false,
     "start_time": "2021-08-20T22:04:49.838282",
     "status": "completed"
    },
    "tags": []
   },
   "outputs": [
    {
     "data": {
      "text/html": [
       "<div>\n",
       "<style scoped>\n",
       "    .dataframe tbody tr th:only-of-type {\n",
       "        vertical-align: middle;\n",
       "    }\n",
       "\n",
       "    .dataframe tbody tr th {\n",
       "        vertical-align: top;\n",
       "    }\n",
       "\n",
       "    .dataframe thead th {\n",
       "        text-align: right;\n",
       "    }\n",
       "</style>\n",
       "<table border=\"1\" class=\"dataframe\">\n",
       "  <thead>\n",
       "    <tr style=\"text-align: right;\">\n",
       "      <th></th>\n",
       "      <th>id</th>\n",
       "      <th>cat0</th>\n",
       "      <th>cat1</th>\n",
       "      <th>cat2</th>\n",
       "      <th>cat3</th>\n",
       "      <th>cat4</th>\n",
       "      <th>cat5</th>\n",
       "      <th>cat6</th>\n",
       "      <th>cat7</th>\n",
       "      <th>cat8</th>\n",
       "      <th>...</th>\n",
       "      <th>cont5</th>\n",
       "      <th>cont6</th>\n",
       "      <th>cont7</th>\n",
       "      <th>cont8</th>\n",
       "      <th>cont9</th>\n",
       "      <th>cont10</th>\n",
       "      <th>cont11</th>\n",
       "      <th>cont12</th>\n",
       "      <th>cont13</th>\n",
       "      <th>target</th>\n",
       "    </tr>\n",
       "  </thead>\n",
       "  <tbody>\n",
       "    <tr>\n",
       "      <th>0</th>\n",
       "      <td>1</td>\n",
       "      <td>B</td>\n",
       "      <td>B</td>\n",
       "      <td>B</td>\n",
       "      <td>C</td>\n",
       "      <td>B</td>\n",
       "      <td>B</td>\n",
       "      <td>A</td>\n",
       "      <td>E</td>\n",
       "      <td>C</td>\n",
       "      <td>...</td>\n",
       "      <td>0.400361</td>\n",
       "      <td>0.160266</td>\n",
       "      <td>0.310921</td>\n",
       "      <td>0.389470</td>\n",
       "      <td>0.267559</td>\n",
       "      <td>0.237281</td>\n",
       "      <td>0.377873</td>\n",
       "      <td>0.322401</td>\n",
       "      <td>0.869850</td>\n",
       "      <td>8.113634</td>\n",
       "    </tr>\n",
       "    <tr>\n",
       "      <th>1</th>\n",
       "      <td>2</td>\n",
       "      <td>B</td>\n",
       "      <td>B</td>\n",
       "      <td>A</td>\n",
       "      <td>A</td>\n",
       "      <td>B</td>\n",
       "      <td>D</td>\n",
       "      <td>A</td>\n",
       "      <td>F</td>\n",
       "      <td>A</td>\n",
       "      <td>...</td>\n",
       "      <td>0.533087</td>\n",
       "      <td>0.558922</td>\n",
       "      <td>0.516294</td>\n",
       "      <td>0.594928</td>\n",
       "      <td>0.341439</td>\n",
       "      <td>0.906013</td>\n",
       "      <td>0.921701</td>\n",
       "      <td>0.261975</td>\n",
       "      <td>0.465083</td>\n",
       "      <td>8.481233</td>\n",
       "    </tr>\n",
       "    <tr>\n",
       "      <th>2</th>\n",
       "      <td>3</td>\n",
       "      <td>A</td>\n",
       "      <td>A</td>\n",
       "      <td>A</td>\n",
       "      <td>C</td>\n",
       "      <td>B</td>\n",
       "      <td>D</td>\n",
       "      <td>A</td>\n",
       "      <td>D</td>\n",
       "      <td>A</td>\n",
       "      <td>...</td>\n",
       "      <td>0.650609</td>\n",
       "      <td>0.375348</td>\n",
       "      <td>0.902567</td>\n",
       "      <td>0.555205</td>\n",
       "      <td>0.843531</td>\n",
       "      <td>0.748809</td>\n",
       "      <td>0.620126</td>\n",
       "      <td>0.541474</td>\n",
       "      <td>0.763846</td>\n",
       "      <td>8.364351</td>\n",
       "    </tr>\n",
       "    <tr>\n",
       "      <th>3</th>\n",
       "      <td>4</td>\n",
       "      <td>B</td>\n",
       "      <td>B</td>\n",
       "      <td>A</td>\n",
       "      <td>C</td>\n",
       "      <td>B</td>\n",
       "      <td>D</td>\n",
       "      <td>A</td>\n",
       "      <td>E</td>\n",
       "      <td>C</td>\n",
       "      <td>...</td>\n",
       "      <td>0.668980</td>\n",
       "      <td>0.239061</td>\n",
       "      <td>0.732948</td>\n",
       "      <td>0.679618</td>\n",
       "      <td>0.574844</td>\n",
       "      <td>0.346010</td>\n",
       "      <td>0.714610</td>\n",
       "      <td>0.540150</td>\n",
       "      <td>0.280682</td>\n",
       "      <td>8.049253</td>\n",
       "    </tr>\n",
       "    <tr>\n",
       "      <th>4</th>\n",
       "      <td>6</td>\n",
       "      <td>A</td>\n",
       "      <td>A</td>\n",
       "      <td>A</td>\n",
       "      <td>C</td>\n",
       "      <td>B</td>\n",
       "      <td>D</td>\n",
       "      <td>A</td>\n",
       "      <td>E</td>\n",
       "      <td>A</td>\n",
       "      <td>...</td>\n",
       "      <td>0.686964</td>\n",
       "      <td>0.420667</td>\n",
       "      <td>0.648182</td>\n",
       "      <td>0.684501</td>\n",
       "      <td>0.956692</td>\n",
       "      <td>1.000773</td>\n",
       "      <td>0.776742</td>\n",
       "      <td>0.625849</td>\n",
       "      <td>0.250823</td>\n",
       "      <td>7.972260</td>\n",
       "    </tr>\n",
       "  </tbody>\n",
       "</table>\n",
       "<p>5 rows × 26 columns</p>\n",
       "</div>"
      ],
      "text/plain": [
       "   id cat0 cat1 cat2 cat3 cat4 cat5 cat6 cat7 cat8  ...     cont5     cont6  \\\n",
       "0   1    B    B    B    C    B    B    A    E    C  ...  0.400361  0.160266   \n",
       "1   2    B    B    A    A    B    D    A    F    A  ...  0.533087  0.558922   \n",
       "2   3    A    A    A    C    B    D    A    D    A  ...  0.650609  0.375348   \n",
       "3   4    B    B    A    C    B    D    A    E    C  ...  0.668980  0.239061   \n",
       "4   6    A    A    A    C    B    D    A    E    A  ...  0.686964  0.420667   \n",
       "\n",
       "      cont7     cont8     cont9    cont10    cont11    cont12    cont13  \\\n",
       "0  0.310921  0.389470  0.267559  0.237281  0.377873  0.322401  0.869850   \n",
       "1  0.516294  0.594928  0.341439  0.906013  0.921701  0.261975  0.465083   \n",
       "2  0.902567  0.555205  0.843531  0.748809  0.620126  0.541474  0.763846   \n",
       "3  0.732948  0.679618  0.574844  0.346010  0.714610  0.540150  0.280682   \n",
       "4  0.648182  0.684501  0.956692  1.000773  0.776742  0.625849  0.250823   \n",
       "\n",
       "     target  \n",
       "0  8.113634  \n",
       "1  8.481233  \n",
       "2  8.364351  \n",
       "3  8.049253  \n",
       "4  7.972260  \n",
       "\n",
       "[5 rows x 26 columns]"
      ]
     },
     "execution_count": 4,
     "metadata": {},
     "output_type": "execute_result"
    }
   ],
   "source": [
    "# Check data\n",
    "train_data.head()"
   ]
  },
  {
   "cell_type": "code",
   "execution_count": 5,
   "id": "ba81282d",
   "metadata": {
    "execution": {
     "iopub.execute_input": "2021-08-20T22:04:49.962332Z",
     "iopub.status.busy": "2021-08-20T22:04:49.961361Z",
     "iopub.status.idle": "2021-08-20T22:04:49.965710Z",
     "shell.execute_reply": "2021-08-20T22:04:49.965161Z",
     "shell.execute_reply.started": "2021-08-20T14:37:06.292439Z"
    },
    "papermill": {
     "duration": 0.02863,
     "end_time": "2021-08-20T22:04:49.965860",
     "exception": false,
     "start_time": "2021-08-20T22:04:49.937230",
     "status": "completed"
    },
    "tags": []
   },
   "outputs": [
    {
     "data": {
      "text/plain": [
       "((300000, 26), (200000, 25))"
      ]
     },
     "execution_count": 5,
     "metadata": {},
     "output_type": "execute_result"
    }
   ],
   "source": [
    "# Check shapes\n",
    "train_data.shape, test_data.shape"
   ]
  },
  {
   "cell_type": "code",
   "execution_count": 6,
   "id": "05abcf25",
   "metadata": {
    "execution": {
     "iopub.execute_input": "2021-08-20T22:04:50.010409Z",
     "iopub.status.busy": "2021-08-20T22:04:50.009422Z",
     "iopub.status.idle": "2021-08-20T22:04:50.013193Z",
     "shell.execute_reply": "2021-08-20T22:04:50.013687Z",
     "shell.execute_reply.started": "2021-08-20T14:37:06.301643Z"
    },
    "papermill": {
     "duration": 0.029131,
     "end_time": "2021-08-20T22:04:50.013855",
     "exception": false,
     "start_time": "2021-08-20T22:04:49.984724",
     "status": "completed"
    },
    "tags": []
   },
   "outputs": [
    {
     "data": {
      "text/plain": [
       "(Index(['id', 'cat0', 'cat1', 'cat2', 'cat3', 'cat4', 'cat5', 'cat6', 'cat7',\n",
       "        'cat8', 'cat9', 'cont0', 'cont1', 'cont2', 'cont3', 'cont4', 'cont5',\n",
       "        'cont6', 'cont7', 'cont8', 'cont9', 'cont10', 'cont11', 'cont12',\n",
       "        'cont13', 'target'],\n",
       "       dtype='object'),\n",
       " Index(['id', 'cat0', 'cat1', 'cat2', 'cat3', 'cat4', 'cat5', 'cat6', 'cat7',\n",
       "        'cat8', 'cat9', 'cont0', 'cont1', 'cont2', 'cont3', 'cont4', 'cont5',\n",
       "        'cont6', 'cont7', 'cont8', 'cont9', 'cont10', 'cont11', 'cont12',\n",
       "        'cont13'],\n",
       "       dtype='object'))"
      ]
     },
     "execution_count": 6,
     "metadata": {},
     "output_type": "execute_result"
    }
   ],
   "source": [
    "# Check columns\n",
    "train_data.columns, test_data.columns"
   ]
  },
  {
   "cell_type": "code",
   "execution_count": 7,
   "id": "b1642419",
   "metadata": {
    "execution": {
     "iopub.execute_input": "2021-08-20T22:04:50.056138Z",
     "iopub.status.busy": "2021-08-20T22:04:50.055152Z",
     "iopub.status.idle": "2021-08-20T22:04:50.178391Z",
     "shell.execute_reply": "2021-08-20T22:04:50.178873Z",
     "shell.execute_reply.started": "2021-08-20T14:37:06.317441Z"
    },
    "papermill": {
     "duration": 0.146241,
     "end_time": "2021-08-20T22:04:50.179079",
     "exception": false,
     "start_time": "2021-08-20T22:04:50.032838",
     "status": "completed"
    },
    "tags": []
   },
   "outputs": [],
   "source": [
    "# Copy datasets for altering\n",
    "train_full = train_data.copy()\n",
    "test_full = test_data.copy()"
   ]
  },
  {
   "cell_type": "code",
   "execution_count": 8,
   "id": "7274851b",
   "metadata": {
    "execution": {
     "iopub.execute_input": "2021-08-20T22:04:50.220508Z",
     "iopub.status.busy": "2021-08-20T22:04:50.219554Z",
     "iopub.status.idle": "2021-08-20T22:04:50.422329Z",
     "shell.execute_reply": "2021-08-20T22:04:50.421757Z",
     "shell.execute_reply.started": "2021-08-20T14:37:06.395394Z"
    },
    "papermill": {
     "duration": 0.224494,
     "end_time": "2021-08-20T22:04:50.422477",
     "exception": false,
     "start_time": "2021-08-20T22:04:50.197983",
     "status": "completed"
    },
    "tags": []
   },
   "outputs": [],
   "source": [
    "# Checking Features to drop - Removing high cardinality\n",
    "cardinality = {}\n",
    "for col in train_full.columns:\n",
    "    # Only concenred with object cols\n",
    "    if train_full[col].dtypes == 'object':\n",
    "        cardinality[col] = len(train_full[col].unique())"
   ]
  },
  {
   "cell_type": "code",
   "execution_count": 9,
   "id": "ee024579",
   "metadata": {
    "execution": {
     "iopub.execute_input": "2021-08-20T22:04:50.468097Z",
     "iopub.status.busy": "2021-08-20T22:04:50.467427Z",
     "iopub.status.idle": "2021-08-20T22:04:50.598672Z",
     "shell.execute_reply": "2021-08-20T22:04:50.597969Z",
     "shell.execute_reply.started": "2021-08-20T14:37:06.605301Z"
    },
    "papermill": {
     "duration": 0.157131,
     "end_time": "2021-08-20T22:04:50.598817",
     "exception": false,
     "start_time": "2021-08-20T22:04:50.441686",
     "status": "completed"
    },
    "tags": []
   },
   "outputs": [],
   "source": [
    "# Cat9 needs to be dropped\n",
    "train_full.drop('cat9', axis = 1, inplace = True)\n",
    "test_full.drop('cat9', axis = 1, inplace = True)"
   ]
  },
  {
   "cell_type": "code",
   "execution_count": 10,
   "id": "ed200541",
   "metadata": {
    "execution": {
     "iopub.execute_input": "2021-08-20T22:04:50.682865Z",
     "iopub.status.busy": "2021-08-20T22:04:50.668721Z",
     "iopub.status.idle": "2021-08-20T22:04:50.685996Z",
     "shell.execute_reply": "2021-08-20T22:04:50.685413Z",
     "shell.execute_reply.started": "2021-08-20T14:37:06.696752Z"
    },
    "papermill": {
     "duration": 0.068236,
     "end_time": "2021-08-20T22:04:50.686151",
     "exception": false,
     "start_time": "2021-08-20T22:04:50.617915",
     "status": "completed"
    },
    "tags": []
   },
   "outputs": [],
   "source": [
    "# Seperate features and targets\n",
    "y = train_full['target']\n",
    "X = train_full.drop('target', axis = 1)"
   ]
  },
  {
   "cell_type": "code",
   "execution_count": 11,
   "id": "1146c864",
   "metadata": {
    "execution": {
     "iopub.execute_input": "2021-08-20T22:04:50.730786Z",
     "iopub.status.busy": "2021-08-20T22:04:50.730100Z",
     "iopub.status.idle": "2021-08-20T22:04:50.915039Z",
     "shell.execute_reply": "2021-08-20T22:04:50.915607Z",
     "shell.execute_reply.started": "2021-08-20T14:37:06.736043Z"
    },
    "papermill": {
     "duration": 0.209832,
     "end_time": "2021-08-20T22:04:50.915785",
     "exception": false,
     "start_time": "2021-08-20T22:04:50.705953",
     "status": "completed"
    },
    "tags": []
   },
   "outputs": [],
   "source": [
    "# Create train set and validation set\n",
    "X_train, X_valid, y_train, y_valid = train_test_split(X,y, train_size = 0.6, random_state = 0)"
   ]
  },
  {
   "cell_type": "code",
   "execution_count": 12,
   "id": "9d764c3f",
   "metadata": {
    "execution": {
     "iopub.execute_input": "2021-08-20T22:04:50.958343Z",
     "iopub.status.busy": "2021-08-20T22:04:50.957681Z",
     "iopub.status.idle": "2021-08-20T22:04:50.963228Z",
     "shell.execute_reply": "2021-08-20T22:04:50.963793Z",
     "shell.execute_reply.started": "2021-08-20T14:37:06.881378Z"
    },
    "papermill": {
     "duration": 0.028945,
     "end_time": "2021-08-20T22:04:50.963992",
     "exception": false,
     "start_time": "2021-08-20T22:04:50.935047",
     "status": "completed"
    },
    "tags": []
   },
   "outputs": [
    {
     "data": {
      "text/plain": [
       "((180000, 24), (120000, 24), (180000,), (120000,))"
      ]
     },
     "execution_count": 12,
     "metadata": {},
     "output_type": "execute_result"
    }
   ],
   "source": [
    "X_train.shape, X_valid.shape, y_train.shape, y_valid.shape"
   ]
  },
  {
   "cell_type": "code",
   "execution_count": 13,
   "id": "29b761c5",
   "metadata": {
    "execution": {
     "iopub.execute_input": "2021-08-20T22:04:51.006395Z",
     "iopub.status.busy": "2021-08-20T22:04:51.005707Z",
     "iopub.status.idle": "2021-08-20T22:04:51.013745Z",
     "shell.execute_reply": "2021-08-20T22:04:51.014312Z",
     "shell.execute_reply.started": "2021-08-20T14:37:06.890977Z"
    },
    "papermill": {
     "duration": 0.030718,
     "end_time": "2021-08-20T22:04:51.014493",
     "exception": false,
     "start_time": "2021-08-20T22:04:50.983775",
     "status": "completed"
    },
    "tags": []
   },
   "outputs": [
    {
     "data": {
      "text/plain": [
       "['cat0', 'cat1', 'cat2', 'cat3', 'cat4', 'cat5', 'cat6', 'cat7', 'cat8']"
      ]
     },
     "execution_count": 13,
     "metadata": {},
     "output_type": "execute_result"
    }
   ],
   "source": [
    "# Extract object cols\n",
    "category_cols = [col for col in X_train.columns if X_train[col].dtype == 'object']\n",
    "category_cols"
   ]
  },
  {
   "cell_type": "code",
   "execution_count": 14,
   "id": "c698680f",
   "metadata": {
    "execution": {
     "iopub.execute_input": "2021-08-20T22:04:51.057135Z",
     "iopub.status.busy": "2021-08-20T22:04:51.056417Z",
     "iopub.status.idle": "2021-08-20T22:04:54.770497Z",
     "shell.execute_reply": "2021-08-20T22:04:54.769781Z",
     "shell.execute_reply.started": "2021-08-20T14:37:06.906151Z"
    },
    "papermill": {
     "duration": 3.736436,
     "end_time": "2021-08-20T22:04:54.770652",
     "exception": false,
     "start_time": "2021-08-20T22:04:51.034216",
     "status": "completed"
    },
    "tags": []
   },
   "outputs": [],
   "source": [
    "# Encoding Category Cols\n",
    "enc = OrdinalEncoder()\n",
    "\n",
    "cat_X_train = X_train.copy()\n",
    "cat_X_valid = X_valid.copy()\n",
    "\n",
    "cat_X_train[category_cols] = enc.fit_transform(X_train[category_cols])\n",
    "cat_X_valid[category_cols] = enc.transform(X_valid[category_cols])\n",
    "test_full[category_cols] = enc.transform(test_full[category_cols])"
   ]
  },
  {
   "cell_type": "code",
   "execution_count": 15,
   "id": "cc20b3de",
   "metadata": {
    "execution": {
     "iopub.execute_input": "2021-08-20T22:04:54.819970Z",
     "iopub.status.busy": "2021-08-20T22:04:54.819215Z",
     "iopub.status.idle": "2021-08-20T22:04:54.821726Z",
     "shell.execute_reply": "2021-08-20T22:04:54.822274Z",
     "shell.execute_reply.started": "2021-08-20T18:11:39.780330Z"
    },
    "papermill": {
     "duration": 0.031691,
     "end_time": "2021-08-20T22:04:54.822448",
     "exception": false,
     "start_time": "2021-08-20T22:04:54.790757",
     "status": "completed"
    },
    "tags": []
   },
   "outputs": [],
   "source": [
    "## Runs for approx 2.5 hours. \n",
    "\n",
    "estimators = [600, 700]\n",
    "depth  = [6, 7, 8]\n",
    "\n",
    "def models_reg(estimators, depth):\n",
    "    results = {}\n",
    "\n",
    "    for i in range(len(estimators)):\n",
    "        for j in range(len(depth)):\n",
    "            start = time.time()\n",
    "            \n",
    "            model = RandomForestRegressor(n_estimators = estimators[i], max_depth = depth[j], random_state = 0)\n",
    "            model.fit(cat_X_train, y_train)\n",
    "            y_predict = model.predict(cat_X_valid)\n",
    "            score = mean_squared_error(y_valid, y_predict)\n",
    "    \n",
    "            results['Estimators: ' + str(estimators[i]) + ' Depth: ' + str(depth[j])] = score\n",
    "        \n",
    "            print('Estimators: ' + str(estimators[i]) + ' Depth: ' + str(depth[j]) + ' Score: ' + str(score))\n",
    "            end = time.time()\n",
    "            print(str(round((end - start)/60, 2)) + ' minutes')\n",
    "            \n",
    "    return results"
   ]
  },
  {
   "cell_type": "code",
   "execution_count": 16,
   "id": "de56cc4f",
   "metadata": {
    "execution": {
     "iopub.execute_input": "2021-08-20T22:04:54.866686Z",
     "iopub.status.busy": "2021-08-20T22:04:54.866013Z",
     "iopub.status.idle": "2021-08-21T00:26:37.345962Z",
     "shell.execute_reply": "2021-08-21T00:26:37.345258Z",
     "shell.execute_reply.started": "2021-08-20T18:11:41.775318Z"
    },
    "papermill": {
     "duration": 8502.503031,
     "end_time": "2021-08-21T00:26:37.346224",
     "exception": false,
     "start_time": "2021-08-20T22:04:54.843193",
     "status": "completed"
    },
    "tags": []
   },
   "outputs": [
    {
     "name": "stdout",
     "output_type": "stream",
     "text": [
      "Estimators: 600 Depth: 6 Score: 0.5437429843125167\n",
      "19.73 minutes\n",
      "Estimators: 600 Depth: 7 Score: 0.5424125629586826\n",
      "22.06 minutes\n",
      "Estimators: 600 Depth: 8 Score: 0.5412569380842072\n",
      "24.3 minutes\n",
      "Estimators: 700 Depth: 6 Score: 0.543724475908459\n",
      "22.27 minutes\n",
      "Estimators: 700 Depth: 7 Score: 0.5423882595559154\n",
      "25.03 minutes\n",
      "Estimators: 700 Depth: 8 Score: 0.5412358427075951\n",
      "28.32 minutes\n"
     ]
    },
    {
     "data": {
      "text/plain": [
       "{'Estimators: 600 Depth: 6': 0.5437429843125167,\n",
       " 'Estimators: 600 Depth: 7': 0.5424125629586826,\n",
       " 'Estimators: 600 Depth: 8': 0.5412569380842072,\n",
       " 'Estimators: 700 Depth: 6': 0.543724475908459,\n",
       " 'Estimators: 700 Depth: 7': 0.5423882595559154,\n",
       " 'Estimators: 700 Depth: 8': 0.5412358427075951}"
      ]
     },
     "execution_count": 16,
     "metadata": {},
     "output_type": "execute_result"
    }
   ],
   "source": [
    "models_reg(estimators, depth)"
   ]
  },
  {
   "cell_type": "code",
   "execution_count": 17,
   "id": "05ecec8d",
   "metadata": {
    "execution": {
     "iopub.execute_input": "2021-08-21T00:26:37.401620Z",
     "iopub.status.busy": "2021-08-21T00:26:37.400112Z",
     "iopub.status.idle": "2021-08-21T01:31:05.732152Z",
     "shell.execute_reply": "2021-08-21T01:31:05.732794Z",
     "shell.execute_reply.started": "2021-08-20T20:45:16.127722Z"
    },
    "papermill": {
     "duration": 3868.364936,
     "end_time": "2021-08-21T01:31:05.733163",
     "exception": false,
     "start_time": "2021-08-21T00:26:37.368227",
     "status": "completed"
    },
    "tags": []
   },
   "outputs": [
    {
     "name": "stdout",
     "output_type": "stream",
     "text": [
      "0.5368497549036454\n",
      "64.47 minutes\n"
     ]
    }
   ],
   "source": [
    "## Runs for 1 hour and 7 minutes. \n",
    "\n",
    "start = time.time()\n",
    "\n",
    "model = RandomForestRegressor(n_estimators = 700)\n",
    "model.fit(cat_X_train, y_train)\n",
    "y_predict = model.predict(cat_X_valid)\n",
    "score = mean_squared_error(y_valid, y_predict)\n",
    "print(score)\n",
    "\n",
    "end = time.time()\n",
    "print(str(round((end - start)/60, 2)) + ' minutes')"
   ]
  },
  {
   "cell_type": "code",
   "execution_count": 18,
   "id": "f761eab8",
   "metadata": {
    "execution": {
     "iopub.execute_input": "2021-08-21T01:31:05.788503Z",
     "iopub.status.busy": "2021-08-21T01:31:05.787798Z",
     "iopub.status.idle": "2021-08-21T01:32:33.552101Z",
     "shell.execute_reply": "2021-08-21T01:32:33.551348Z",
     "shell.execute_reply.started": "2021-08-20T22:02:23.125984Z"
    },
    "papermill": {
     "duration": 87.796878,
     "end_time": "2021-08-21T01:32:33.552270",
     "exception": false,
     "start_time": "2021-08-21T01:31:05.755392",
     "status": "completed"
    },
    "tags": []
   },
   "outputs": [],
   "source": [
    "test_predictions = model.predict(test_full)"
   ]
  },
  {
   "cell_type": "code",
   "execution_count": 19,
   "id": "c64f5446",
   "metadata": {
    "execution": {
     "iopub.execute_input": "2021-08-21T01:32:33.611549Z",
     "iopub.status.busy": "2021-08-21T01:32:33.610756Z",
     "iopub.status.idle": "2021-08-21T01:32:33.615451Z",
     "shell.execute_reply": "2021-08-21T01:32:33.614753Z",
     "shell.execute_reply.started": "2021-08-20T22:04:17.163126Z"
    },
    "papermill": {
     "duration": 0.037559,
     "end_time": "2021-08-21T01:32:33.615606",
     "exception": false,
     "start_time": "2021-08-21T01:32:33.578047",
     "status": "completed"
    },
    "tags": []
   },
   "outputs": [],
   "source": [
    "output = pd.DataFrame({'Id': test_full['id'], \n",
    "                      'Target': test_predictions})"
   ]
  },
  {
   "cell_type": "code",
   "execution_count": 20,
   "id": "6fdda297",
   "metadata": {
    "execution": {
     "iopub.execute_input": "2021-08-21T01:32:33.669381Z",
     "iopub.status.busy": "2021-08-21T01:32:33.668642Z",
     "iopub.status.idle": "2021-08-21T01:32:34.452421Z",
     "shell.execute_reply": "2021-08-21T01:32:34.451851Z",
     "shell.execute_reply.started": "2021-08-20T22:04:18.892941Z"
    },
    "papermill": {
     "duration": 0.81387,
     "end_time": "2021-08-21T01:32:34.452569",
     "exception": false,
     "start_time": "2021-08-21T01:32:33.638699",
     "status": "completed"
    },
    "tags": []
   },
   "outputs": [],
   "source": [
    "output.to_csv('my_submission.csv', index = False)"
   ]
  }
 ],
 "metadata": {
  "kernelspec": {
   "display_name": "Python 3",
   "language": "python",
   "name": "python3"
  },
  "language_info": {
   "codemirror_mode": {
    "name": "ipython",
    "version": 3
   },
   "file_extension": ".py",
   "mimetype": "text/x-python",
   "name": "python",
   "nbconvert_exporter": "python",
   "pygments_lexer": "ipython3",
   "version": "3.7.10"
  },
  "papermill": {
   "default_parameters": {},
   "duration": 12482.116287,
   "end_time": "2021-08-21T01:32:36.393537",
   "environment_variables": {},
   "exception": null,
   "input_path": "__notebook__.ipynb",
   "output_path": "__notebook__.ipynb",
   "parameters": {},
   "start_time": "2021-08-20T22:04:34.277250",
   "version": "2.3.3"
  }
 },
 "nbformat": 4,
 "nbformat_minor": 5
}
