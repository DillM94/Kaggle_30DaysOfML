{
 "cells": [
  {
   "cell_type": "code",
   "execution_count": 1,
   "id": "c72547b8",
   "metadata": {
    "_cell_guid": "b1076dfc-b9ad-4769-8c92-a6c4dae69d19",
    "_uuid": "8f2839f25d086af736a60e9eeb907d3b93b6e0e5",
    "execution": {
     "iopub.execute_input": "2021-08-21T20:26:17.816954Z",
     "iopub.status.busy": "2021-08-21T20:26:17.816094Z",
     "iopub.status.idle": "2021-08-21T20:26:17.821216Z",
     "shell.execute_reply": "2021-08-21T20:26:17.821976Z",
     "shell.execute_reply.started": "2021-08-21T19:57:15.545792Z"
    },
    "papermill": {
     "duration": 0.029835,
     "end_time": "2021-08-21T20:26:17.822329",
     "exception": false,
     "start_time": "2021-08-21T20:26:17.792494",
     "status": "completed"
    },
    "tags": []
   },
   "outputs": [
    {
     "name": "stdout",
     "output_type": "stream",
     "text": [
      "/kaggle/input/30-days-of-ml/sample_submission.csv\n",
      "/kaggle/input/30-days-of-ml/train.csv\n",
      "/kaggle/input/30-days-of-ml/test.csv\n"
     ]
    }
   ],
   "source": [
    "import os\n",
    "for dirname, _, filenames in os.walk('/kaggle/input'):\n",
    "    for filename in filenames:\n",
    "        print(os.path.join(dirname, filename))"
   ]
  },
  {
   "cell_type": "code",
   "execution_count": 2,
   "id": "4fcfb2ed",
   "metadata": {
    "execution": {
     "iopub.execute_input": "2021-08-21T20:26:17.852153Z",
     "iopub.status.busy": "2021-08-21T20:26:17.851570Z",
     "iopub.status.idle": "2021-08-21T20:26:18.839317Z",
     "shell.execute_reply": "2021-08-21T20:26:18.838599Z",
     "shell.execute_reply.started": "2021-08-21T19:57:16.041267Z"
    },
    "papermill": {
     "duration": 1.00414,
     "end_time": "2021-08-21T20:26:18.839457",
     "exception": false,
     "start_time": "2021-08-21T20:26:17.835317",
     "status": "completed"
    },
    "tags": []
   },
   "outputs": [],
   "source": [
    "import pandas as pd\n",
    "import numpy as np\n",
    "from xgboost import XGBRegressor\n",
    "from sklearn.model_selection import train_test_split\n",
    "from sklearn.preprocessing import OrdinalEncoder\n",
    "from sklearn.metrics import mean_squared_error"
   ]
  },
  {
   "cell_type": "code",
   "execution_count": 3,
   "id": "19e80a00",
   "metadata": {
    "execution": {
     "iopub.execute_input": "2021-08-21T20:26:18.875349Z",
     "iopub.status.busy": "2021-08-21T20:26:18.874607Z",
     "iopub.status.idle": "2021-08-21T20:26:22.743849Z",
     "shell.execute_reply": "2021-08-21T20:26:22.742734Z",
     "shell.execute_reply.started": "2021-08-21T19:57:17.169964Z"
    },
    "papermill": {
     "duration": 3.889416,
     "end_time": "2021-08-21T20:26:22.744011",
     "exception": false,
     "start_time": "2021-08-21T20:26:18.854595",
     "status": "completed"
    },
    "tags": []
   },
   "outputs": [],
   "source": [
    "train_data = pd.read_csv('/kaggle/input/30-days-of-ml/train.csv')\n",
    "test_data = pd.read_csv('/kaggle/input/30-days-of-ml/test.csv')"
   ]
  },
  {
   "cell_type": "code",
   "execution_count": 4,
   "id": "05252c37",
   "metadata": {
    "execution": {
     "iopub.execute_input": "2021-08-21T20:26:22.773452Z",
     "iopub.status.busy": "2021-08-21T20:26:22.772134Z",
     "iopub.status.idle": "2021-08-21T20:26:22.855013Z",
     "shell.execute_reply": "2021-08-21T20:26:22.854430Z",
     "shell.execute_reply.started": "2021-08-21T19:57:20.858525Z"
    },
    "papermill": {
     "duration": 0.099216,
     "end_time": "2021-08-21T20:26:22.855177",
     "exception": false,
     "start_time": "2021-08-21T20:26:22.755961",
     "status": "completed"
    },
    "tags": []
   },
   "outputs": [],
   "source": [
    "train_full = train_data.copy()\n",
    "test_full = test_data.copy()"
   ]
  },
  {
   "cell_type": "code",
   "execution_count": 5,
   "id": "031f581c",
   "metadata": {
    "execution": {
     "iopub.execute_input": "2021-08-21T20:26:22.886581Z",
     "iopub.status.busy": "2021-08-21T20:26:22.885916Z",
     "iopub.status.idle": "2021-08-21T20:26:22.931815Z",
     "shell.execute_reply": "2021-08-21T20:26:22.932298Z",
     "shell.execute_reply.started": "2021-08-21T19:57:20.959003Z"
    },
    "papermill": {
     "duration": 0.065465,
     "end_time": "2021-08-21T20:26:22.932464",
     "exception": false,
     "start_time": "2021-08-21T20:26:22.866999",
     "status": "completed"
    },
    "tags": []
   },
   "outputs": [],
   "source": [
    "y = train_full['target']\n",
    "X = train_full.drop('target', axis = 1)"
   ]
  },
  {
   "cell_type": "code",
   "execution_count": 6,
   "id": "05d32466",
   "metadata": {
    "execution": {
     "iopub.execute_input": "2021-08-21T20:26:22.958895Z",
     "iopub.status.busy": "2021-08-21T20:26:22.958309Z",
     "iopub.status.idle": "2021-08-21T20:26:23.035588Z",
     "shell.execute_reply": "2021-08-21T20:26:23.036148Z",
     "shell.execute_reply.started": "2021-08-21T19:57:21.025005Z"
    },
    "papermill": {
     "duration": 0.091525,
     "end_time": "2021-08-21T20:26:23.036323",
     "exception": false,
     "start_time": "2021-08-21T20:26:22.944798",
     "status": "completed"
    },
    "tags": []
   },
   "outputs": [],
   "source": [
    "X.drop('cat9', axis = 1, inplace = True)\n",
    "test_full.drop('cat9', axis = 1, inplace = True)"
   ]
  },
  {
   "cell_type": "code",
   "execution_count": 7,
   "id": "e8c38df4",
   "metadata": {
    "execution": {
     "iopub.execute_input": "2021-08-21T20:26:23.062873Z",
     "iopub.status.busy": "2021-08-21T20:26:23.062234Z",
     "iopub.status.idle": "2021-08-21T20:26:23.180294Z",
     "shell.execute_reply": "2021-08-21T20:26:23.180811Z",
     "shell.execute_reply.started": "2021-08-21T19:57:21.114768Z"
    },
    "papermill": {
     "duration": 0.132477,
     "end_time": "2021-08-21T20:26:23.180979",
     "exception": false,
     "start_time": "2021-08-21T20:26:23.048502",
     "status": "completed"
    },
    "tags": []
   },
   "outputs": [],
   "source": [
    "X_train, X_valid, y_train, y_valid = train_test_split(X, y, train_size = 0.8, random_state = 0)"
   ]
  },
  {
   "cell_type": "code",
   "execution_count": 8,
   "id": "d6128c65",
   "metadata": {
    "execution": {
     "iopub.execute_input": "2021-08-21T20:26:23.210085Z",
     "iopub.status.busy": "2021-08-21T20:26:23.209424Z",
     "iopub.status.idle": "2021-08-21T20:26:23.212490Z",
     "shell.execute_reply": "2021-08-21T20:26:23.211962Z",
     "shell.execute_reply.started": "2021-08-21T19:57:21.238089Z"
    },
    "papermill": {
     "duration": 0.020198,
     "end_time": "2021-08-21T20:26:23.212641",
     "exception": false,
     "start_time": "2021-08-21T20:26:23.192443",
     "status": "completed"
    },
    "tags": []
   },
   "outputs": [],
   "source": [
    "categories = [col for col in X_train.columns if X_train[col].dtype == 'object']"
   ]
  },
  {
   "cell_type": "code",
   "execution_count": 9,
   "id": "0616b62a",
   "metadata": {
    "execution": {
     "iopub.execute_input": "2021-08-21T20:26:23.241000Z",
     "iopub.status.busy": "2021-08-21T20:26:23.240390Z",
     "iopub.status.idle": "2021-08-21T20:26:26.614721Z",
     "shell.execute_reply": "2021-08-21T20:26:26.614144Z",
     "shell.execute_reply.started": "2021-08-21T19:57:21.245229Z"
    },
    "papermill": {
     "duration": 3.390535,
     "end_time": "2021-08-21T20:26:26.614861",
     "exception": false,
     "start_time": "2021-08-21T20:26:23.224326",
     "status": "completed"
    },
    "tags": []
   },
   "outputs": [],
   "source": [
    "encoder = OrdinalEncoder()\n",
    "\n",
    "enc_X_train = X_train.copy()\n",
    "enc_X_valid = X_valid.copy()\n",
    "\n",
    "enc_X_train[categories] = encoder.fit_transform(X_train[categories])\n",
    "enc_X_valid[categories] = encoder.transform(X_valid[categories])\n",
    "test_full[categories] = encoder.transform(test_full[categories])"
   ]
  },
  {
   "cell_type": "code",
   "execution_count": 10,
   "id": "1aa1cb6f",
   "metadata": {
    "execution": {
     "iopub.execute_input": "2021-08-21T20:26:26.645543Z",
     "iopub.status.busy": "2021-08-21T20:26:26.644858Z",
     "iopub.status.idle": "2021-08-21T20:35:05.976913Z",
     "shell.execute_reply": "2021-08-21T20:35:05.977373Z",
     "shell.execute_reply.started": "2021-08-21T20:13:44.120936Z"
    },
    "papermill": {
     "duration": 519.350737,
     "end_time": "2021-08-21T20:35:05.977545",
     "exception": false,
     "start_time": "2021-08-21T20:26:26.626808",
     "status": "completed"
    },
    "tags": []
   },
   "outputs": [
    {
     "data": {
      "text/plain": [
       "0.5225519622430873"
      ]
     },
     "execution_count": 10,
     "metadata": {},
     "output_type": "execute_result"
    }
   ],
   "source": [
    "model = XGBRegressor(n_estimators = 900, learning_rate = 0.03, n_jobs = 2)\n",
    "\n",
    "model.fit(enc_X_train, y_train)\n",
    "predictions = model.predict(enc_X_valid)\n",
    "score = mean_squared_error(y_valid, predictions)\n",
    "score"
   ]
  },
  {
   "cell_type": "code",
   "execution_count": 11,
   "id": "51a3a8ab",
   "metadata": {
    "execution": {
     "iopub.execute_input": "2021-08-21T20:35:06.004454Z",
     "iopub.status.busy": "2021-08-21T20:35:06.003560Z",
     "iopub.status.idle": "2021-08-21T20:35:08.211329Z",
     "shell.execute_reply": "2021-08-21T20:35:08.211761Z",
     "shell.execute_reply.started": "2021-08-21T20:22:47.180203Z"
    },
    "papermill": {
     "duration": 2.222697,
     "end_time": "2021-08-21T20:35:08.211938",
     "exception": false,
     "start_time": "2021-08-21T20:35:05.989241",
     "status": "completed"
    },
    "tags": []
   },
   "outputs": [],
   "source": [
    "final_preds = model.predict(test_full)"
   ]
  },
  {
   "cell_type": "code",
   "execution_count": 12,
   "id": "28c507e6",
   "metadata": {
    "execution": {
     "iopub.execute_input": "2021-08-21T20:35:08.238897Z",
     "iopub.status.busy": "2021-08-21T20:35:08.237983Z",
     "iopub.status.idle": "2021-08-21T20:35:08.243662Z",
     "shell.execute_reply": "2021-08-21T20:35:08.244180Z",
     "shell.execute_reply.started": "2021-08-21T20:25:46.283162Z"
    },
    "papermill": {
     "duration": 0.020501,
     "end_time": "2021-08-21T20:35:08.244324",
     "exception": false,
     "start_time": "2021-08-21T20:35:08.223823",
     "status": "completed"
    },
    "tags": []
   },
   "outputs": [],
   "source": [
    "output = pd.DataFrame({\n",
    "    'Id': test_full['id'], \n",
    "    'Target': final_preds}\n",
    ")"
   ]
  },
  {
   "cell_type": "code",
   "execution_count": 13,
   "id": "e5f730cf",
   "metadata": {
    "execution": {
     "iopub.execute_input": "2021-08-21T20:35:08.270270Z",
     "iopub.status.busy": "2021-08-21T20:35:08.269379Z",
     "iopub.status.idle": "2021-08-21T20:35:08.854614Z",
     "shell.execute_reply": "2021-08-21T20:35:08.853971Z",
     "shell.execute_reply.started": "2021-08-21T20:25:54.699395Z"
    },
    "papermill": {
     "duration": 0.599121,
     "end_time": "2021-08-21T20:35:08.854758",
     "exception": false,
     "start_time": "2021-08-21T20:35:08.255637",
     "status": "completed"
    },
    "tags": []
   },
   "outputs": [],
   "source": [
    "output.to_csv('my_submission.csv', index = False)"
   ]
  }
 ],
 "metadata": {
  "kernelspec": {
   "display_name": "Python 3",
   "language": "python",
   "name": "python3"
  },
  "language_info": {
   "codemirror_mode": {
    "name": "ipython",
    "version": 3
   },
   "file_extension": ".py",
   "mimetype": "text/x-python",
   "name": "python",
   "nbconvert_exporter": "python",
   "pygments_lexer": "ipython3",
   "version": "3.7.10"
  },
  "papermill": {
   "default_parameters": {},
   "duration": 539.958327,
   "end_time": "2021-08-21T20:35:10.151911",
   "environment_variables": {},
   "exception": null,
   "input_path": "__notebook__.ipynb",
   "output_path": "__notebook__.ipynb",
   "parameters": {},
   "start_time": "2021-08-21T20:26:10.193584",
   "version": "2.3.3"
  }
 },
 "nbformat": 4,
 "nbformat_minor": 5
}
